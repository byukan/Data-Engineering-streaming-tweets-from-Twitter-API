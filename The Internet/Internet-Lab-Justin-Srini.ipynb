{
 "cells": [
  {
   "cell_type": "code",
   "execution_count": 1,
   "metadata": {
    "collapsed": true
   },
   "outputs": [],
   "source": [
    "# https://github.com/justwjr/DSCI6007-student/blob/master/The%20Internet/lab.md\n",
    "import os\n",
    "import yaml\n",
    "credentials = yaml.load(open(os.path.expanduser('~/api_cred.yml')))"
   ]
  },
  {
   "cell_type": "code",
   "execution_count": 2,
   "metadata": {
    "collapsed": false
   },
   "outputs": [
    {
     "data": {
      "text/plain": [
       "{'twitter': {'consumer_key': 'ZFPIkvZvMxUchIQzV31qYOL7m',\n",
       "  'consumer_secret': '8usCoOkboWMNS3EWpeUnj8GyFNmpi2R240kPy0XNKxR5gg8JOz',\n",
       "  'token': '965746291-2Oz066vZS3B4V4dT5ixJDL4pCsfQ3hSZ1BtnFwPR',\n",
       "  'token_secret': 'hiDFNNMp6LjodiZ4LxWBnHPwxuF1Bw9SeaPMMctYdVoPH'}}"
      ]
     },
     "execution_count": 2,
     "metadata": {},
     "output_type": "execute_result"
    }
   ],
   "source": [
    "credentials"
   ]
  },
  {
   "cell_type": "code",
   "execution_count": 3,
   "metadata": {
    "collapsed": false,
    "scrolled": true
   },
   "outputs": [
    {
     "data": {
      "text/plain": [
       "'ZFPIkvZvMxUchIQzV31qYOL7m'"
      ]
     },
     "execution_count": 3,
     "metadata": {},
     "output_type": "execute_result"
    }
   ],
   "source": [
    "credentials['twitter'].get('consumer_key')"
   ]
  },
  {
   "cell_type": "code",
   "execution_count": 4,
   "metadata": {
    "collapsed": true
   },
   "outputs": [],
   "source": [
    "# https://github.com/ideoforms/python-twitter-examples/blob/master/twitter-trends.py"
   ]
  },
  {
   "cell_type": "code",
   "execution_count": 5,
   "metadata": {
    "collapsed": false
   },
   "outputs": [
    {
     "data": {
      "text/plain": [
       "<twitter.api.Twitter at 0x103b13350>"
      ]
     },
     "execution_count": 5,
     "metadata": {},
     "output_type": "execute_result"
    }
   ],
   "source": [
    "#!/usr/bin/python\n",
    "\n",
    "#-----------------------------------------------------------------------\n",
    "# twitter-trends\n",
    "#  - lists the current global trending topics\n",
    "#-----------------------------------------------------------------------\n",
    "\n",
    "from twitter import *\n",
    "\n",
    "#-----------------------------------------------------------------------\n",
    "# load our API credentials \n",
    "#-----------------------------------------------------------------------\n",
    "# config = {}\n",
    "# execfile(\"config.py\", config)\n",
    "\n",
    "#-----------------------------------------------------------------------\n",
    "# create twitter API object\n",
    "#-----------------------------------------------------------------------\n",
    "twitter = Twitter(auth = OAuth(credentials['twitter'].get('token'),\n",
    "                               credentials['twitter'].get('token_secret'),\n",
    "                               credentials['twitter'].get('consumer_key'), \n",
    "                               credentials['twitter'].get('consumer_secret'))\n",
    ")\n",
    "\n",
    "twitter"
   ]
  },
  {
   "cell_type": "code",
   "execution_count": 6,
   "metadata": {
    "collapsed": false,
    "scrolled": true
   },
   "outputs": [
    {
     "name": "stdout",
     "output_type": "stream",
     "text": [
      "US Trends\n",
      " - Sean Spicer\n",
      " - #IMarchWithLinda\n",
      " - #mondaymotivation\n",
      " - The Last Jedi\n",
      " - #NationalPieDay\n",
      " - #SchoolChoice\n",
      " - #MusicMonday\n",
      " - Pro Bowl\n",
      " - Gail Miller\n",
      " - Mike Groh\n",
      " - D-League\n",
      " - Tucson International Airport\n",
      " - Marco Rubio\n",
      " - Google Voice\n",
      " - Marie Harf\n",
      " - Player of the Week\n",
      " - Tidal\n",
      " - Flynn\n",
      " - Resident Evil 7\n",
      " - Father John Misty\n",
      " - Patti Cake\n",
      " - Tuscon Airport\n",
      " - Aetna\n",
      " - CALL ME BY YOUR NAME\n",
      " - DAPL\n",
      " - Yahoo Q4\n",
      " - Trump Organization\n",
      " - Wil Myers\n",
      " - #LawyersIn5Words\n",
      " - #MyPerfectDatingApp\n",
      " - #PressBriefing\n",
      " - #CMAD\n",
      " - #iHeartAustinMahone\n",
      " - #MakeSomeoneOlder\n",
      " - #SOTN17\n",
      " - #beliebersstayforever\n",
      " - #contentchat\n",
      " - #H2HChat\n",
      " - #IHandleChangeBy\n",
      " - #RoyalCaninDogShow\n",
      " - #ATLCollegeFair\n",
      " - #Emmys\n",
      " - #NewEdition\n"
     ]
    }
   ],
   "source": [
    "#-----------------------------------------------------------------------\n",
    "# retrieve global trends.\n",
    "# other localised trends can be specified by looking up WOE IDs:\n",
    "#   http://developer.yahoo.com/geo/geoplanet/\n",
    "# twitter API docs: https://dev.twitter.com/docs/api/1/get/trends/%3Awoeid\n",
    "#-----------------------------------------------------------------------\n",
    "results = twitter.trends.place(_id = 23424977)\n",
    "\n",
    "print \"US Trends\"\n",
    "\n",
    "for location in results:\n",
    "    for trend in location[\"trends\"]:\n",
    "        print \" - %s\" % trend[\"name\"]"
   ]
  },
  {
   "cell_type": "code",
   "execution_count": 7,
   "metadata": {
    "collapsed": false,
    "scrolled": true
   },
   "outputs": [
    {
     "data": {
      "text/plain": [
       "[u'Sean Spicer',\n",
       " u'#IMarchWithLinda',\n",
       " u'#mondaymotivation',\n",
       " u'The Last Jedi',\n",
       " u'#NationalPieDay',\n",
       " u'#SchoolChoice',\n",
       " u'#MusicMonday',\n",
       " u'Pro Bowl',\n",
       " u'Gail Miller',\n",
       " u'Mike Groh']"
      ]
     },
     "execution_count": 7,
     "metadata": {},
     "output_type": "execute_result"
    }
   ],
   "source": [
    "trends = [trend[\"name\"] for trend in location[\"trends\"] for location in results]\n",
    "trends[:10]"
   ]
  },
  {
   "cell_type": "code",
   "execution_count": 8,
   "metadata": {
    "collapsed": false,
    "scrolled": true
   },
   "outputs": [
    {
     "data": {
      "text/html": [
       "<div>\n",
       "<table border=\"1\" class=\"dataframe\">\n",
       "  <thead>\n",
       "    <tr style=\"text-align: right;\">\n",
       "      <th></th>\n",
       "      <th>0</th>\n",
       "    </tr>\n",
       "  </thead>\n",
       "  <tbody>\n",
       "    <tr>\n",
       "      <th>0</th>\n",
       "      <td>Sean Spicer</td>\n",
       "    </tr>\n",
       "    <tr>\n",
       "      <th>1</th>\n",
       "      <td>#IMarchWithLinda</td>\n",
       "    </tr>\n",
       "    <tr>\n",
       "      <th>2</th>\n",
       "      <td>#mondaymotivation</td>\n",
       "    </tr>\n",
       "    <tr>\n",
       "      <th>3</th>\n",
       "      <td>The Last Jedi</td>\n",
       "    </tr>\n",
       "    <tr>\n",
       "      <th>4</th>\n",
       "      <td>#NationalPieDay</td>\n",
       "    </tr>\n",
       "  </tbody>\n",
       "</table>\n",
       "</div>"
      ],
      "text/plain": [
       "                   0\n",
       "0        Sean Spicer\n",
       "1   #IMarchWithLinda\n",
       "2  #mondaymotivation\n",
       "3      The Last Jedi\n",
       "4    #NationalPieDay"
      ]
     },
     "execution_count": 8,
     "metadata": {},
     "output_type": "execute_result"
    }
   ],
   "source": [
    "import pandas as pd\n",
    "df = pd.DataFrame(trends[:10])\n",
    "df.head()"
   ]
  },
  {
   "cell_type": "code",
   "execution_count": 14,
   "metadata": {
    "collapsed": false,
    "scrolled": true
   },
   "outputs": [
    {
     "data": {
      "text/plain": [
       "u'<table border=\"1\" class=\"dataframe\">\\n  <thead>\\n    <tr style=\"text-align: right;\">\\n      <th></th>\\n      <th>0</th>\\n    </tr>\\n  </thead>\\n  <tbody>\\n    <tr>\\n      <th>0</th>\\n      <td>Sean Spicer</td>\\n    </tr>\\n    <tr>\\n      <th>1</th>\\n      <td>#IMarchWithLinda</td>\\n    </tr>\\n    <tr>\\n      <th>2</th>\\n      <td>#mondaymotivation</td>\\n    </tr>\\n    <tr>\\n      <th>3</th>\\n      <td>The Last Jedi</td>\\n    </tr>\\n    <tr>\\n      <th>4</th>\\n      <td>#NationalPieDay</td>\\n    </tr>\\n    <tr>\\n      <th>5</th>\\n      <td>#SchoolChoice</td>\\n    </tr>\\n    <tr>\\n      <th>6</th>\\n      <td>#MusicMonday</td>\\n    </tr>\\n    <tr>\\n      <th>7</th>\\n      <td>Pro Bowl</td>\\n    </tr>\\n    <tr>\\n      <th>8</th>\\n      <td>Gail Miller</td>\\n    </tr>\\n    <tr>\\n      <th>9</th>\\n      <td>Mike Groh</td>\\n    </tr>\\n  </tbody>\\n</table>'"
      ]
     },
     "execution_count": 14,
     "metadata": {},
     "output_type": "execute_result"
    }
   ],
   "source": [
    "top10html = df.to_html()\n",
    "top10html"
   ]
  },
  {
   "cell_type": "code",
   "execution_count": 16,
   "metadata": {
    "collapsed": true
   },
   "outputs": [],
   "source": [
    "myfile = open('top10.html', 'w')\n",
    "myfile.write(top10html)\n",
    "# for location in results:\n",
    "#     for i, trend in enumerate(location[\"trends\"]):\n",
    "#         if i < 10:\n",
    "#             myfile.write(\"%s\\n\" %trend[\"name\"])\n",
    "myfile.close()"
   ]
  },
  {
   "cell_type": "code",
   "execution_count": 10,
   "metadata": {
    "collapsed": true
   },
   "outputs": [],
   "source": [
    "myfile = open('top10.txt', 'w')\n",
    "for location in results:\n",
    "    for i, trend in enumerate(location[\"trends\"]):\n",
    "        if i < 10:\n",
    "            myfile.write(\"%s\\n\" %trend[\"name\"])\n",
    "myfile.close()"
   ]
  },
  {
   "cell_type": "code",
   "execution_count": 11,
   "metadata": {
    "collapsed": false
   },
   "outputs": [
    {
     "name": "stdout",
     "output_type": "stream",
     "text": [
      "\u001b[34mHTML\u001b[m\u001b[m/                            error.html\r\n",
      "\u001b[34mHTTP\u001b[m\u001b[m/                            \u001b[34mhtml-intro\u001b[m\u001b[m/\r\n",
      "Internet-Lab-Justin-Srini.ipynb  index.html\r\n",
      "Internet-Lab-Justin-Srini.py     lab.md\r\n",
      "README.md                        top10.txt\r\n"
     ]
    }
   ],
   "source": [
    "ls"
   ]
  },
  {
   "cell_type": "code",
   "execution_count": 12,
   "metadata": {
    "collapsed": false
   },
   "outputs": [
    {
     "name": "stdout",
     "output_type": "stream",
     "text": [
      "{u'WebsiteConfiguration': {u'IndexDocument': {u'Suffix': u'index.html'}, u'ErrorDocument': {u'Key': u'error.html'}}}\n"
     ]
    }
   ],
   "source": [
    "import time\n",
    "import boto\n",
    "from boto.s3.connection import Location\n",
    "\n",
    "#\n",
    "# create a couple of strings with our very minimal web content\n",
    "#\n",
    "index_html = \"<html><head><title>My Top Twitter Trends</title></head><body>\"+ top10html +\"</body></html>\"\n",
    "\n",
    "error_html = \"\"\"\n",
    "<html>\n",
    "  <head><title>Something is wrong</title></head>\n",
    "  <body><h2>Something is terribly wrong with my S3-based website</h2></body>\n",
    "</html>\"\"\"\n",
    "\n",
    "# create a connection to S3\n",
    "conn = boto.connect_s3(host='s3-us-west-1.amazonaws.com')\n",
    "# create a bucket and make it publicly readable\n",
    "# website_bucket = conn.create_bucket('justw150',\n",
    "#                                     location=Location.USWest,\n",
    "#                                     policy='public-read')\n",
    "website_bucket = conn.get_bucket('justw150')\n",
    "\n",
    "# upload our HTML pages and make sure they are publicly readable\n",
    "# also make sure Content-Type is set to text/html\n",
    "index_key = website_bucket.new_key('index.html')\n",
    "index_key.content_type = 'text/html'\n",
    "index_key.set_contents_from_string(index_html, policy='public-read')\n",
    "error_key = website_bucket.new_key('error.html')\n",
    "error_key.content_type = 'text/html'\n",
    "error_key.set_contents_from_string(error_html, policy='public-read')\n",
    "\n",
    "# now set the website configuration for our bucket\n",
    "website_bucket.configure_website('index.html', 'error.html')\n",
    "\n",
    "time.sleep(5)\n",
    "\n",
    "# now get the website configuration, just to check it\n",
    "print website_bucket.get_website_configuration()"
   ]
  },
  {
   "cell_type": "code",
   "execution_count": 13,
   "metadata": {
    "collapsed": true
   },
   "outputs": [],
   "source": [
    "# http://justw150.s3-website-us-west-1.amazonaws.com/"
   ]
  },
  {
   "cell_type": "code",
   "execution_count": null,
   "metadata": {
    "collapsed": true
   },
   "outputs": [],
   "source": []
  }
 ],
 "metadata": {
  "anaconda-cloud": {},
  "kernelspec": {
   "display_name": "Python 2",
   "language": "python",
   "name": "python2"
  },
  "language_info": {
   "codemirror_mode": {
    "name": "ipython",
    "version": 2
   },
   "file_extension": ".py",
   "mimetype": "text/x-python",
   "name": "python",
   "nbconvert_exporter": "python",
   "pygments_lexer": "ipython2",
   "version": "2.7.13"
  }
 },
 "nbformat": 4,
 "nbformat_minor": 1
}
