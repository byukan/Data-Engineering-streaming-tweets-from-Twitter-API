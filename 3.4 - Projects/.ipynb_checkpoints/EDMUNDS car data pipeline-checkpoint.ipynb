{
 "cells": [
  {
   "cell_type": "markdown",
   "metadata": {},
   "source": [
    "Edmunds API Python Wrapper\n",
    "\n",
    "This is an awesome Python 2 wrapper for the Edmunds.com API. The Edmunds.com API provides automative data including vehicle specs, pricing, media, reviews, and more. There are also Edmunds API endpoints for dealership information and Edmunds editorial content."
   ]
  },
  {
   "cell_type": "markdown",
   "metadata": {},
   "source": [
    "software development best practices\n",
    "\n",
    "business value\n",
    "process diagram showing the relationship b/w the different phrases of chrisp dm\n",
    " - wikipedia article\n",
    "\n",
    "http://developer.edmunds.com/"
   ]
  },
  {
   "cell_type": "code",
   "execution_count": 24,
   "metadata": {
    "collapsed": true
   },
   "outputs": [],
   "source": [
    "#! /usr/bin/env python\n",
    "# -*- coding: <utf-8> -*-\n",
    "\n",
    "import os\n",
    "\n",
    "import psycopg2\n",
    "from psycopg2.extras import Json\n",
    "import yaml\n",
    "import sys\n",
    "import json\n",
    "# import pymongo"
   ]
  },
  {
   "cell_type": "code",
   "execution_count": 26,
   "metadata": {
    "collapsed": false
   },
   "outputs": [],
   "source": [
    "from edmunds import Edmunds\n",
    "\n",
    "credentials = yaml.load(open(os.path.expanduser('~/edmunds_api_cred.yml')))\n",
    "creds = credentials['edmunds']\n",
    "\n",
    "api = Edmunds(creds.get('Key')) # use Edmunds('YOUR API KEY', True) for debug mode"
   ]
  },
  {
   "cell_type": "markdown",
   "metadata": {},
   "source": [
    "Make API calls to any endpoint, get a JSON object returned. For example, get the style details for the 2011 Lexus RX 350:\n"
   ]
  },
  {
   "cell_type": "code",
   "execution_count": 28,
   "metadata": {
    "collapsed": false
   },
   "outputs": [
    {
     "data": {
      "text/plain": [
       "{u'styles': [{u'id': 101353968,\n",
       "   u'make': {u'id': 200001623, u'name': u'Lexus', u'niceName': u'lexus'},\n",
       "   u'model': {u'id': u'Lexus_RX_350',\n",
       "    u'name': u'RX 350',\n",
       "    u'niceName': u'rx-350'},\n",
       "   u'name': u'4dr SUV AWD (3.5L 6cyl 6A)',\n",
       "   u'submodel': {u'body': u'SUV',\n",
       "    u'modelName': u'RX 350 SUV',\n",
       "    u'niceName': u'suv'},\n",
       "   u'trim': u'Base',\n",
       "   u'year': {u'id': 100533091, u'year': 2011}},\n",
       "  {u'id': 101353967,\n",
       "   u'make': {u'id': 200001623, u'name': u'Lexus', u'niceName': u'lexus'},\n",
       "   u'model': {u'id': u'Lexus_RX_350',\n",
       "    u'name': u'RX 350',\n",
       "    u'niceName': u'rx-350'},\n",
       "   u'name': u'4dr SUV (3.5L 6cyl 6A)',\n",
       "   u'submodel': {u'body': u'SUV',\n",
       "    u'modelName': u'RX 350 SUV',\n",
       "    u'niceName': u'suv'},\n",
       "   u'trim': u'Base',\n",
       "   u'year': {u'id': 100533091, u'year': 2011}}],\n",
       " u'stylesCount': 2}"
      ]
     },
     "execution_count": 28,
     "metadata": {},
     "output_type": "execute_result"
    }
   ],
   "source": [
    "response = api.make_call('/api/vehicle/v2/lexus/rx350/2011/styles')\n",
    "response"
   ]
  },
  {
   "cell_type": "markdown",
   "metadata": {},
   "source": [
    "Get photos for the style ID 3883 (1990 Honda Civic 2dr Hatchback):"
   ]
  },
  {
   "cell_type": "code",
   "execution_count": 29,
   "metadata": {
    "collapsed": true
   },
   "outputs": [],
   "source": [
    "response = api.make_call('/v1/api/vehiclephoto/service/findphotosbystyleid', comparator='simple', styleId='3883')"
   ]
  },
  {
   "cell_type": "code",
   "execution_count": 30,
   "metadata": {
    "collapsed": false
   },
   "outputs": [
    {
     "data": {
      "text/plain": [
       "[{u'authorNames': [u'American Honda Motor Company, Inc.'],\n",
       "  u'captionTranscript': u'1991 Honda Civic 2 Dr Si Hatchback',\n",
       "  u'children': [],\n",
       "  u'id': u'dam/photo/honda/civic/1991/oem/1991_honda_civic_2dr-hatchback_si_fq_oem_1',\n",
       "  u'photoSrcs': [u'/honda/civic/1991/oem/1991_honda_civic_2dr-hatchback_si_fq_oem_1_131.jpg',\n",
       "   u'/honda/civic/1991/oem/1991_honda_civic_2dr-hatchback_si_fq_oem_1_396.jpg',\n",
       "   u'/honda/civic/1991/oem/1991_honda_civic_2dr-hatchback_si_fq_oem_1_300.jpg',\n",
       "   u'/honda/civic/1991/oem/1991_honda_civic_2dr-hatchback_si_fq_oem_1_400.jpg',\n",
       "   u'/honda/civic/1991/oem/1991_honda_civic_2dr-hatchback_si_fq_oem_1_500.jpg',\n",
       "   u'/honda/civic/1991/oem/1991_honda_civic_2dr-hatchback_si_fq_oem_1_185.jpg',\n",
       "   u'/honda/civic/1991/oem/1991_honda_civic_2dr-hatchback_si_fq_oem_1_175.jpg',\n",
       "   u'/honda/civic/1991/oem/1991_honda_civic_2dr-hatchback_si_fq_oem_1_196.jpg',\n",
       "   u'/honda/civic/1991/oem/1991_honda_civic_2dr-hatchback_si_fq_oem_1_423.jpg',\n",
       "   u'/honda/civic/1991/oem/1991_honda_civic_2dr-hatchback_si_fq_oem_1_276.jpg',\n",
       "   u'/honda/civic/1991/oem/1991_honda_civic_2dr-hatchback_si_fq_oem_1_87.jpg',\n",
       "   u'/honda/civic/1991/oem/1991_honda_civic_2dr-hatchback_si_fq_oem_1_150.jpg',\n",
       "   u'/honda/civic/1991/oem/1991_honda_civic_2dr-hatchback_si_fq_oem_1_98.jpg'],\n",
       "  u'shotTypeAbbreviation': u'FQ',\n",
       "  u'site': u'dam',\n",
       "  u'source': u'OEM',\n",
       "  u'subType': u'exterior',\n",
       "  u'type': u'PHOTOS',\n",
       "  u'vdpOrder': 1}]"
      ]
     },
     "execution_count": 30,
     "metadata": {},
     "output_type": "execute_result"
    }
   ],
   "source": [
    "response"
   ]
  },
  {
   "cell_type": "code",
   "execution_count": null,
   "metadata": {
    "collapsed": true
   },
   "outputs": [],
   "source": []
  }
 ],
 "metadata": {
  "anaconda-cloud": {},
  "kernelspec": {
   "display_name": "Python [conda env:dsci6007]",
   "language": "python",
   "name": "conda-env-dsci6007-py"
  },
  "language_info": {
   "codemirror_mode": {
    "name": "ipython",
    "version": 2
   },
   "file_extension": ".py",
   "mimetype": "text/x-python",
   "name": "python",
   "nbconvert_exporter": "python",
   "pygments_lexer": "ipython2",
   "version": "2.7.13"
  }
 },
 "nbformat": 4,
 "nbformat_minor": 1
}
